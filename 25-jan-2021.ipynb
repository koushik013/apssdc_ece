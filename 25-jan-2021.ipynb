{
 "cells": [
  {
   "cell_type": "code",
   "execution_count": 1,
   "metadata": {},
   "outputs": [
    {
     "name": "stdout",
     "output_type": "stream",
     "text": [
      "hello world\n"
     ]
    }
   ],
   "source": [
    "print('hello world')"
   ]
  },
  {
   "cell_type": "code",
   "execution_count": 2,
   "metadata": {},
   "outputs": [],
   "source": [
    "#syntax:\n",
    "#for var in range(start,end,diff):\n",
    "# statements"
   ]
  },
  {
   "cell_type": "code",
   "execution_count": 11,
   "metadata": {},
   "outputs": [
    {
     "name": "stdout",
     "output_type": "stream",
     "text": [
      "enter a namekoushik\n",
      "koushikkoushikkoushikkoushikkoushikkoushikkoushikkoushikkoushikkoushik"
     ]
    }
   ],
   "source": [
    "a=input(\"enter a name\")\n",
    "for i in range(1,11):\n",
    "       print(a,end =\"\")"
   ]
  },
  {
   "cell_type": "code",
   "execution_count": 20,
   "metadata": {},
   "outputs": [
    {
     "name": "stdout",
     "output_type": "stream",
     "text": [
      "02468101214161820222426283032343638404244464850525456586062646668707274767880828486889092949698100"
     ]
    }
   ],
   "source": [
    "for i in range(0,101):\n",
    "   if  i%2==0: \n",
    "     print(i,end = \"\")"
   ]
  },
  {
   "cell_type": "code",
   "execution_count": 36,
   "metadata": {},
   "outputs": [
    {
     "ename": "IndentationError",
     "evalue": "unexpected indent (<ipython-input-36-0d76245a1208>, line 4)",
     "output_type": "error",
     "traceback": [
      "\u001b[1;36m  File \u001b[1;32m\"<ipython-input-36-0d76245a1208>\"\u001b[1;36m, line \u001b[1;32m4\u001b[0m\n\u001b[1;33m    else:\u001b[0m\n\u001b[1;37m    ^\u001b[0m\n\u001b[1;31mIndentationError\u001b[0m\u001b[1;31m:\u001b[0m unexpected indent\n"
     ]
    }
   ],
   "source": [
    "g=int(input('enter a value'))\n",
    "if g%2==0:\n",
    "    print('even',g)\n",
    "     else:\n",
    "    print('odd',g)"
   ]
  },
  {
   "cell_type": "code",
   "execution_count": 37,
   "metadata": {},
   "outputs": [
    {
     "name": "stdout",
     "output_type": "stream",
     "text": [
      "enter table number:23\n",
      "enter table lengh:10\n",
      "23*1=23\n",
      "23*2=46\n",
      "23*3=69\n",
      "23*4=92\n",
      "23*5=115\n",
      "23*6=138\n",
      "23*7=161\n",
      "23*8=184\n",
      "23*9=207\n",
      "23*10=230\n"
     ]
    }
   ],
   "source": [
    "t=int(input('enter table number:'))\n",
    "t_len=int(input('enter table lengh:'))\n",
    "for i in range(1,t_len+1):\n",
    "     #17*1=17\n",
    "        print('{}*{}={}'.format(t,i,t*i))"
   ]
  },
  {
   "cell_type": "code",
   "execution_count": 56,
   "metadata": {},
   "outputs": [
    {
     "name": "stdout",
     "output_type": "stream",
     "text": [
      "enter number:4\n",
      "1factors count is : 1\n",
      "not a prime numbers\n",
      "2factors count is : 2\n",
      "prime numbers\n",
      "prime numbers\n",
      "4factors count is : 3\n",
      "not a prime numbers\n"
     ]
    }
   ],
   "source": [
    "n=int(input('enter number:'))\n",
    "cnt=0\n",
    "for i in range(1,n+1):\n",
    "    if  n%i==0:\n",
    "        cnt+=1\n",
    "        print(i,end='')\n",
    "        print('factors count is :',cnt)\n",
    "    if cnt==2:\n",
    "        print('prime numbers')\n",
    "    else:\n",
    "        print('not a prime numbers')"
   ]
  },
  {
   "cell_type": "code",
   "execution_count": 59,
   "metadata": {},
   "outputs": [
    {
     "name": "stdout",
     "output_type": "stream",
     "text": [
      "12345678910"
     ]
    }
   ],
   "source": [
    "i=1\n",
    "while i<11:\n",
    "    print(i,end= '')\n",
    "    i+=1"
   ]
  },
  {
   "cell_type": "code",
   "execution_count": null,
   "metadata": {},
   "outputs": [],
   "source": []
  }
 ],
 "metadata": {
  "kernelspec": {
   "display_name": "Python 3",
   "language": "python",
   "name": "python3"
  },
  "language_info": {
   "codemirror_mode": {
    "name": "ipython",
    "version": 3
   },
   "file_extension": ".py",
   "mimetype": "text/x-python",
   "name": "python",
   "nbconvert_exporter": "python",
   "pygments_lexer": "ipython3",
   "version": "3.7.3"
  }
 },
 "nbformat": 4,
 "nbformat_minor": 2
}
